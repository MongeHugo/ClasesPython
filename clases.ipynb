{
  "nbformat": 4,
  "nbformat_minor": 0,
  "metadata": {
    "colab": {
      "name": "clases.ipynb",
      "provenance": [],
      "collapsed_sections": [],
      "authorship_tag": "ABX9TyMB7V/NpcqBqb/PRvhq6ErD",
      "include_colab_link": true
    },
    "kernelspec": {
      "name": "python3",
      "display_name": "Python 3"
    }
  },
  "cells": [
    {
      "cell_type": "markdown",
      "metadata": {
        "id": "view-in-github",
        "colab_type": "text"
      },
      "source": [
        "<a href=\"https://colab.research.google.com/github/MongeHugo/ClasesPython/blob/main/clases.ipynb\" target=\"_parent\"><img src=\"https://colab.research.google.com/assets/colab-badge.svg\" alt=\"Open In Colab\"/></a>"
      ]
    },
    {
      "cell_type": "code",
      "metadata": {
        "colab": {
          "base_uri": "https://localhost:8080/"
        },
        "id": "xpr4TKfxMnz7",
        "outputId": "94c1cb2e-a2a4-483e-f2e4-3349ea75022d"
      },
      "source": [
        "print(\"hola mundo\")"
      ],
      "execution_count": 1,
      "outputs": [
        {
          "output_type": "stream",
          "text": [
            "hola mundo\n"
          ],
          "name": "stdout"
        }
      ]
    },
    {
      "cell_type": "code",
      "metadata": {
        "colab": {
          "base_uri": "https://localhost:8080/"
        },
        "id": "-4QMJR-4NBaP",
        "outputId": "00fb2395-297d-4a1f-ff61-51901ebe55da"
      },
      "source": [
        "!python --version"
      ],
      "execution_count": 3,
      "outputs": [
        {
          "output_type": "stream",
          "text": [
            "Python 3.7.10\n"
          ],
          "name": "stdout"
        }
      ]
    },
    {
      "cell_type": "code",
      "metadata": {
        "colab": {
          "base_uri": "https://localhost:8080/"
        },
        "id": "-yH8jp6oR8Qj",
        "outputId": "40f27360-61d7-4417-d88a-113e44680fd2"
      },
      "source": [
        "#Variables Globales\r\n",
        "palabra = \"Hola Mundo\"\r\n",
        "#Ejecucion\r\n",
        "print (palabra[0:4])\r\n",
        "for letra in enumerate(palabra): print(letra)\r\n",
        "matriz= [letra for letra in palabra]\r\n",
        "print (matriz)\r\n",
        "matriz2 = [uno for uno in str.split(palabra)]\r\n",
        "print(matriz2)\r\n",
        "#segundo ejercicio\r\n",
        "precio = [200,100,300]\r\n",
        "cantidad = [2]\r\n",
        "nueva = [preciounitario*1.13 for preciounitario in precio]\r\n",
        "nueva2 = [cant*prec for cant in cantidad for prec in precio]\r\n",
        "print (nueva)\r\n",
        "print (nueva2)\r\n",
        "#tercer ejercicio\r\n",
        "def sorter(elem):\r\n",
        "    return elem[1]\r\n",
        "palabras = [\"te\",\"tomate\",\"uva\",\"naranja\"]\r\n",
        "sorted_list = sorted(palabras, key=sorter)\r\n",
        "print(sorted_list)\r\n",
        "#cuarto ejercicio\r\n",
        "ingresos = [500,300,200]\r\n",
        "gastos =   [20, 40, 80, 90, 75, 35, 20, 10,25, 60, 300]\r\n",
        "totaling = 0\r\n",
        "for ingreso in ingresos: totaling = ingreso + totaling\r\n",
        "totalgast = 0\r\n",
        "for gasto in gastos: totalgast = gasto + totalgast\r\n",
        "print(\"Ingresos= %i Gastos= %i\" %(totaling,totalgast))\r\n",
        "resultado = totaling - totalgast\r\n",
        "print(\"Resultado= %i\" %(resultado))\r\n",
        "if resultado > 0:\r\n",
        "  print (\"Ganancias \", resultado)\r\n",
        "#Quinto ejercicio\r\n",
        "ingresoscomp = [[\"Enero\",500],[\"Febrero\",300],[\"Marzo\",200], [\"Mayo\",300]]\r\n",
        "gastoscomp =   [[\"Enero\",20],[\"Febrero\",40],[\"Marzo\",80], [\"Mayo\",300]]\r\n"
      ],
      "execution_count": 3,
      "outputs": [
        {
          "output_type": "stream",
          "text": [
            "Hola\n",
            "(0, 'H')\n",
            "(1, 'o')\n",
            "(2, 'l')\n",
            "(3, 'a')\n",
            "(4, ' ')\n",
            "(5, 'M')\n",
            "(6, 'u')\n",
            "(7, 'n')\n",
            "(8, 'd')\n",
            "(9, 'o')\n",
            "['H', 'o', 'l', 'a', ' ', 'M', 'u', 'n', 'd', 'o']\n",
            "['Hola', 'Mundo']\n",
            "[225.99999999999997, 112.99999999999999, 338.99999999999994]\n",
            "[400, 200, 600]\n",
            "['naranja', 'te', 'tomate', 'uva']\n",
            "Ingresos= 1000 Gastos= 755\n",
            "Resultado= 245\n",
            "Ganancias  245\n"
          ],
          "name": "stdout"
        }
      ]
    }
  ]
}